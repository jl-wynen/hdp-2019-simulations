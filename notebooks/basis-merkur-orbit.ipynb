{
 "cells": [
  {
   "cell_type": "markdown",
   "metadata": {},
   "source": [
    "<b><span style=\"color:#E04728;font-size:26pt\">Die Periheldrehung des Merkurs</span></b>"
   ]
  },
  {
   "cell_type": "markdown",
   "metadata": {},
   "source": [
    "Dieses Notebook simuliert die Bewegung des Merkurs, optional unter Berücksichtigung der Relativitätstheorie."
   ]
  },
  {
   "cell_type": "markdown",
   "metadata": {
    "ExecuteTime": {
     "end_time": "2018-01-12T14:54:06.755848Z",
     "start_time": "2018-01-12T14:54:06.752957Z"
    },
    "slideshow": {
     "slide_type": "-"
    }
   },
   "source": [
    "# Einrichtung der Simulation"
   ]
  },
  {
   "cell_type": "markdown",
   "metadata": {},
   "source": [
    "Lade alle nötigen Funktionen und richte Grafikausgabe ein."
   ]
  },
  {
   "cell_type": "code",
   "execution_count": null,
   "metadata": {
    "ExecuteTime": {
     "end_time": "2018-01-16T10:13:58.676217Z",
     "start_time": "2018-01-16T10:13:57.129656Z"
    },
    "scrolled": true
   },
   "outputs": [],
   "source": [
    "from graphics import *"
   ]
  },
  {
   "cell_type": "markdown",
   "metadata": {
    "ExecuteTime": {
     "end_time": "2018-01-12T14:55:04.374817Z",
     "start_time": "2018-01-12T14:55:04.370205Z"
    }
   },
   "source": [
    "Definiere physikalische Parameter. Die folgenden Parameter wurden berechnet mittels https://nssdc.gsfc.nasa.gov/planetary/factsheet"
   ]
  },
  {
   "cell_type": "code",
   "execution_count": null,
   "metadata": {
    "ExecuteTime": {
     "end_time": "2018-01-16T10:13:58.683773Z",
     "start_time": "2018-01-16T10:13:58.679276Z"
    }
   },
   "outputs": [],
   "source": [
    "rM0 = 4.60     # Startradius des Merkurorbits\n",
    "vM0 = 5.10e-1  # Startgeschwindigkeit des Merkurs\n",
    "c_a = 9.90e-1  # Basisbeschleunigung des Merkurs\n",
    "rS  = 2.95e-7  # Schwarzschildradius der Sonne\n",
    "rL2 = 8.19e-7  # Spezifischer Drehimpuls"
   ]
  },
  {
   "cell_type": "markdown",
   "metadata": {},
   "source": [
    "Für die physikalischen Berechnungen und grafische Ausgabe brauchen wir Vektoren. Die Startposition und -geschwindigkeit des Merkurs können wie folgt definiert werden."
   ]
  },
  {
   "cell_type": "code",
   "execution_count": null,
   "metadata": {
    "ExecuteTime": {
     "end_time": "2018-01-16T10:13:58.691129Z",
     "start_time": "2018-01-16T10:13:58.687015Z"
    }
   },
   "outputs": [],
   "source": [
    "vec_rM0 = vector(0, rM0, 0) # Startposition des Merkurs\n",
    "vec_vM0 = vector(vM0, 0, 0) # Startgeschwindigkeit des Merkurs"
   ]
  },
  {
   "cell_type": "markdown",
   "metadata": {},
   "source": [
    "Definiere Simulationsparameter. Diese werden nur von der numerischen Simulation gebraucht und haben keine physikalische Bedeutung."
   ]
  },
  {
   "cell_type": "code",
   "execution_count": null,
   "metadata": {
    "ExecuteTime": {
     "end_time": "2018-01-16T10:13:58.720211Z",
     "start_time": "2018-01-16T10:13:58.710773Z"
    }
   },
   "outputs": [],
   "source": [
    "dt = 2. * vM0 / c_a / 20  # Zeitschritt\n",
    "max_time = 10000*dt       # Maximale Simulationszeit"
   ]
  },
  {
   "cell_type": "markdown",
   "metadata": {},
   "source": [
    "# Der Merkurorbit mit Klassischer Gravitation"
   ]
  },
  {
   "cell_type": "markdown",
   "metadata": {},
   "source": [
    "In diesem Abschnitt wird der Merkurorbit mittels klassischer (Newtonscher) Mechanik simuliert.<br>\n",
    "Definiere dazu eine Funktion, die Ort und Geschwindigkeit des Merkurs in der Zeit entwickelt. Dazu wird die Gravitationskraft der Sonne auf den Merkur mit klassischer (Newtonscher) Mechanik berechnet. Anschließend wird der Merkur ein kurzes Stück geradlinig bewegt."
   ]
  },
  {
   "cell_type": "code",
   "execution_count": null,
   "metadata": {
    "ExecuteTime": {
     "end_time": "2018-01-16T10:13:58.708723Z",
     "start_time": "2018-01-16T10:13:58.693265Z"
    }
   },
   "outputs": [],
   "source": [
    "def evolve_mercury_classic(vec_rM_old, vec_vM_old):\n",
    "    \"\"\"\n",
    "    Berechne einen Zeitschritt des Merkurs.\n",
    "    Argumente:\n",
    "         - vec_rM_old: alter Positionsvektor des Merkur\n",
    "         - vec_vM_old: alter Geschwindigkeitsvektor des Merkur\n",
    "    Rückgabe:\n",
    "         - vec_rM_new: neuer Positionsvektor des Merkur\n",
    "         - vec_vM_new: neuer Geschwindigkeitsvektor des Merkur\n",
    "    \"\"\"\n",
    "\n",
    "    # Berechne die absolute Beschleunigung\n",
    "    aMS = c_a / vec_rM_old.mag**2\n",
    "    # Multipliziere mit der Richtung um den Beschleunigungsvektor zu erhalten\n",
    "    vec_aMS = - aMS * (vec_rM_old / vec_rM_old.mag)\n",
    "    # Aktualisiere Geschwindigkeitsvektor\n",
    "    vec_vM_new = vec_vM_old + vec_aMS * dt\n",
    "    # Aktualisiere Positionsvektor\n",
    "    vec_rM_new = vec_rM_old + vec_vM_new * dt\n",
    "    \n",
    "    return vec_rM_new, vec_vM_new"
   ]
  },
  {
   "cell_type": "code",
   "execution_count": null,
   "metadata": {
    "ExecuteTime": {
     "start_time": "2018-01-16T10:13:57.147Z"
    },
    "scrolled": false
   },
   "outputs": [],
   "source": [
    "# Erzeuge eine neue Grafikausgabe weiter unten\n",
    "canvas()\n",
    "\n",
    "# Zeichne Kugeln and den Startpositionen; M = Merkur, S = Sonne\n",
    "M = sphere(pos=vec_rM0, radius=0.5, color=color.red)\n",
    "S = sphere(pos=vector(0, 0, 0), radius=1.5, color=color.yellow)\n",
    "# Setze Startgeschwindigkeiten\n",
    "M.velocity = vec_vM0\n",
    "S.velocity = vector(0, 0, 0)\n",
    "\n",
    "# Mache die Flugbahn des Merkurs sichtbar\n",
    "M.trajectory = curve(color=color.black, radius=0.02)\n",
    "\n",
    "# Führe die Simulation for die gegebene Zeit aus und zeichne die Trajektorie\n",
    "time = 0  # Aktuelle Simulationszeit\n",
    "while time < max_time:\n",
    "    # Setzte Bildrate\n",
    "    rate(100)\n",
    "    # Füge die aktuelle Position zur Trajektorie hinzu\n",
    "    M.trajectory.append(pos=M.pos)\n",
    "    # Aktualisiere Position und Geschwindigkeit\n",
    "    M.pos, M.velocity = evolve_mercury_classic(M.pos, M.velocity)\n",
    "    # Setze Simulationszeit weiter\n",
    "    time = time + dt"
   ]
  },
  {
   "cell_type": "markdown",
   "metadata": {},
   "source": [
    "# Der Merkurorbit mit Relativistischer Gravitation"
   ]
  },
  {
   "cell_type": "markdown",
   "metadata": {},
   "source": [
    "In diesem Abschnitt wird schließlich der Effekt der Allgemeinen Relativitätstheorie auf den Merkurorbit simuliert.<br>\n",
    "Die unten definierte Funktion ist die gleiche wie zuvor aber mit einem extra Schritt, der den relativistischen Anteil berechnet."
   ]
  },
  {
   "cell_type": "code",
   "execution_count": null,
   "metadata": {},
   "outputs": [],
   "source": [
    "def evolve_mercury_relativistic(vec_rM_old, vec_vM_old, a, b):\n",
    "    \"\"\"\n",
    "    Berechne einen Zeitschritt des Merkurs.\n",
    "    Argumente:\n",
    "         - vec_rM_old: alter Positionsvektor des Merkur\n",
    "         - vec_vM_old: alter Geschwindigkeitsvektor des Merkur\n",
    "         - a: Stärke des 1/r**3 Terms in der Kraft\n",
    "         - b: Stärke des 1/r**4 Terms in der Kraft\n",
    "    Rückgabe:\n",
    "         - vec_rM_new: neuer Positionsvektor des Merkur\n",
    "         - vec_vM_new: neuer Geschwindigkeitsvektor des Merkur\n",
    "    \"\"\"\n",
    "\n",
    "    # Berechne den Faktor aus der Allgemeinen Relativitätstheorie\n",
    "    fact = 1 + a * rS / vec_rM_old.mag + b * rL2 / vec_rM_old.mag**2\n",
    "    \n",
    "    # Berechne die absolute Beschleunigung\n",
    "    aMS = c_a * fact / vec_rM_old.mag**2\n",
    "    # Multipliziere mit der Richtung um den Beschleunigungsvektor zu erhalten\n",
    "    vec_aMS = - aMS * (vec_rM_old / vec_rM_old.mag)\n",
    "    # Aktualisiere Geschwindigkeitsvektor\n",
    "    vec_vM_new = vec_vM_old + vec_aMS * dt\n",
    "    # Aktualisiere Positionsvektor\n",
    "    vec_rM_new = vec_rM_old + vec_vM_new * dt\n",
    "    \n",
    "    return vec_rM_new, vec_vM_new"
   ]
  },
  {
   "cell_type": "markdown",
   "metadata": {},
   "source": [
    "Die folgenden Parameter bestimmen die Stärke der relativistischen Kraft, siehe Poster.\n",
    "Hier müssen sehr große Werte gewählt werden, damit in der Simulation etwas zu sehen ist."
   ]
  },
  {
   "cell_type": "code",
   "execution_count": null,
   "metadata": {},
   "outputs": [],
   "source": [
    "a = 10**6  # Stärke des 1/r**3 tTerms\n",
    "b = 0      # Stärke des 1/r**4 Terms"
   ]
  },
  {
   "cell_type": "code",
   "execution_count": null,
   "metadata": {},
   "outputs": [],
   "source": [
    "# Erzeuge eine neue Grafikausgabe weiter unten\n",
    "canvas()\n",
    "\n",
    "# Zeichne Kugeln and den Startpositionen; M = Merkur, S = Sonne\n",
    "M = sphere(pos=vec_rM0, radius=0.5, color=color.red)\n",
    "S = sphere(pos=vector(0, 0, 0), radius=1.5, color=color.yellow)\n",
    "# Setze Startgeschwindigkeiten\n",
    "M.velocity = vec_vM0\n",
    "S.velocity = vector(0, 0, 0)\n",
    "\n",
    "# Mache die Flugbahn des Merkurs sichtbar\n",
    "M.trajectory = curve(color=color.black, radius=0.02)\n",
    "\n",
    "# Führe die Simulation for die gegebene Zeit aus und zeichne die Trajektorie\n",
    "time = 0  # Aktuelle Simulationszeit\n",
    "while time < max_time:\n",
    "    # Setzte Bildrate\n",
    "    rate(100)\n",
    "    # Füge die aktuelle Position zur Trajektorie hinzu\n",
    "    M.trajectory.append(pos=M.pos)\n",
    "    # Aktualisiere Position und Geschwindigkeit\n",
    "    M.pos, M.velocity = evolve_mercury_relativistic(M.pos, M.velocity, a, b)\n",
    "    # Setze Simulationszeit weiter\n",
    "    time = time + dt"
   ]
  },
  {
   "cell_type": "code",
   "execution_count": null,
   "metadata": {},
   "outputs": [],
   "source": []
  }
 ],
 "metadata": {
  "kernelspec": {
   "display_name": "highlights-der-physik-2019",
   "language": "python",
   "name": "highlights-der-physik-2019-ewhvivst"
  },
  "language_info": {
   "codemirror_mode": {
    "name": "ipython",
    "version": 3
   },
   "file_extension": ".py",
   "mimetype": "text/x-python",
   "name": "python",
   "nbconvert_exporter": "python",
   "pygments_lexer": "ipython3",
   "version": "3.7.4"
  }
 },
 "nbformat": 4,
 "nbformat_minor": 2
}
