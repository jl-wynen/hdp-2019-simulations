{
 "cells": [
  {
   "cell_type": "markdown",
   "metadata": {},
   "source": [
    "<b><span style=\"color:#E04728;font-size:26pt\">Simulation mehrerer Planeten</span></b>"
   ]
  },
  {
   "cell_type": "markdown",
   "metadata": {},
   "source": [
    "Dieses Notebook simuliert die Bewegung des Merkurs und der Venus zusammen"
   ]
  },
  {
   "cell_type": "markdown",
   "metadata": {
    "ExecuteTime": {
     "end_time": "2018-01-12T14:54:06.755848Z",
     "start_time": "2018-01-12T14:54:06.752957Z"
    },
    "slideshow": {
     "slide_type": "-"
    }
   },
   "source": [
    "# Einrichtung der Simulation"
   ]
  },
  {
   "cell_type": "markdown",
   "metadata": {},
   "source": [
    "Lade alle nötigen Funktionen und richte Grafikausgabe ein."
   ]
  },
  {
   "cell_type": "code",
   "execution_count": null,
   "metadata": {
    "ExecuteTime": {
     "end_time": "2018-01-16T10:13:58.676217Z",
     "start_time": "2018-01-16T10:13:57.129656Z"
    },
    "scrolled": true
   },
   "outputs": [],
   "source": [
    "from graphics import *"
   ]
  },
  {
   "cell_type": "markdown",
   "metadata": {
    "ExecuteTime": {
     "end_time": "2018-01-12T14:55:04.374817Z",
     "start_time": "2018-01-12T14:55:04.370205Z"
    }
   },
   "source": [
    "Definiere physikalische Parameter. Die folgenden Parameter wurden berechnet mittels https://nssdc.gsfc.nasa.gov/planetary/factsheet"
   ]
  },
  {
   "cell_type": "code",
   "execution_count": null,
   "metadata": {
    "ExecuteTime": {
     "end_time": "2018-01-16T10:13:58.683773Z",
     "start_time": "2018-01-16T10:13:58.679276Z"
    }
   },
   "outputs": [],
   "source": [
    "rM0 = 4.60     # Startradius des Merkurorbits\n",
    "vM0 = 5.10e-1  # Startgeschwindigkeit des Merkurs\n",
    "rV0 = 10.7     # Startradius des Venusorbits\n",
    "vV0 = 3.05e-1  # Startgeschwindigkeit der Venus\n",
    "c_aS = 9.90e-1  # Basisbeschleunigung von der Gravitation der Sonne\n",
    "c_aM = 1.64e-7  # Basisbeschleunigung von der Gravitation des Merkurs\n",
    "c_aV = 1.93e-7  # Basisbeschleunigung von der Gravitation der Venus\n",
    "rS  = 2.95e-7  # Schwarzschildradius der Sonne\n",
    "rL2 = 8.19e-7  # Spezifischer Drehimpuls"
   ]
  },
  {
   "cell_type": "markdown",
   "metadata": {},
   "source": [
    "Für die physikalischen Berechnungen und grafische Ausgabe brauchen wir Vektoren. Die Startposition und -geschwindigkeit der Planeten können wie folgt definiert werden."
   ]
  },
  {
   "cell_type": "code",
   "execution_count": null,
   "metadata": {
    "ExecuteTime": {
     "end_time": "2018-01-16T10:13:58.691129Z",
     "start_time": "2018-01-16T10:13:58.687015Z"
    }
   },
   "outputs": [],
   "source": [
    "vec_rM0 = vector(0, rM0, 0) # Startposition des Merkurs\n",
    "vec_vM0 = vector(vM0, 0, 0) # Startgeschwindigkeit des Merkurs\n",
    "vec_rV0 = vector(0, rV0, 0) # Startposition der Venus\n",
    "vec_vV0 = vector(vV0, 0, 0) # Startgeschwindigkeit der Venus"
   ]
  },
  {
   "cell_type": "markdown",
   "metadata": {},
   "source": [
    "Definiere Simulationsparameter. Diese werden nur von der numerischen Simulation gebraucht und haben keine physikalische Bedeutung."
   ]
  },
  {
   "cell_type": "code",
   "execution_count": null,
   "metadata": {
    "ExecuteTime": {
     "end_time": "2018-01-16T10:13:58.720211Z",
     "start_time": "2018-01-16T10:13:58.710773Z"
    }
   },
   "outputs": [],
   "source": [
    "dt = 2. * vM0 / 0.99 / 20  # Zeitschritt TODO\n",
    "max_time = 10000*dt       # Maximale Simulationszeit"
   ]
  },
  {
   "cell_type": "markdown",
   "metadata": {},
   "source": [
    "# Simuliere die Orbits"
   ]
  },
  {
   "cell_type": "markdown",
   "metadata": {},
   "source": [
    "In diesem Abschnitt werden die Orbits von Merkur und Venus simuliert.\n",
    "Die unten definierte Funktion entwickelt einen beliebigen Planeten um einen Schritt in der Zeit."
   ]
  },
  {
   "cell_type": "code",
   "execution_count": null,
   "metadata": {},
   "outputs": [],
   "source": [
    "def evolve_planet(vec_r_old, vec_v_old, vec_r_other, c_a_other, a, b):\n",
    "    \"\"\"\n",
    "    Berechne einen Zeitschritt eines Planeten.\n",
    "    Argumente:\n",
    "         - vec_r_old: alter Positionsvektor des Planeten\n",
    "         - vec_v_old: alter Geschwindigkeitsvektor des Planeten\n",
    "         - vec_r_other: Positionsvektor des anderen Planeten\n",
    "         - c_a_other:sfaktor Beschleunigung auf diesen Planeten die vom anderen Planeten ausgeht\n",
    "         - a: Stärke des 1/r**3 Terms in der Kraft\n",
    "         - b: Stärke des 1/r**4 Terms in der Kraft\n",
    "    Rückgabe:\n",
    "         - vec_r_new: neuer Positionsvektor des Planeten\n",
    "         - vec_v_new: neuer Geschwindigkeitsvektor des Planeten\n",
    "    \"\"\"\n",
    "\n",
    "    # Berechne die absolute Beschleunigung basierend auf der Sonne\n",
    "    aPS = c_aS / vec_r_old.mag**2\n",
    "    # Multipliziere mit Faktor aus der Allgemeinen Relativitätstheorie\n",
    "    aPS = aPS * (1 + a * rS / vec_r_old.mag + b * rL2 / vec_r_old.mag**2)\n",
    "    # Multipliziere mit der Richtung um den Beschleunigungsvektor zu erhalten\n",
    "    vec_aPS = - aPS * (vec_r_old / vec_r_old.mag)\n",
    "    \n",
    "    # Berechne den Vektor vom anderen Planeten zu Diesem\n",
    "    vec_r_PP = vec_r_old - vec_r_other\n",
    "    # Berechne die absolute Beschleunigung basierend auf dem anderen Planeten\n",
    "    aPP = c_a_other / vec_r_PP.mag**2\n",
    "    # Multipliziere mit der Richtung um den Beschleunigungsvektor zu erhalten\n",
    "    vec_aPP = - aPP * (vec_r_PP / vec_r_PP.mag)\n",
    "    \n",
    "    # Aktualisiere Geschwindigkeitsvektor\n",
    "    vec_v_new = vec_v_old + (vec_aPS + vec_aPP) * dt\n",
    "    # Aktualisiere Positionsvektor\n",
    "    vec_r_new = vec_r_old + vec_v_new * dt\n",
    "    \n",
    "    return vec_r_new, vec_v_new"
   ]
  },
  {
   "cell_type": "markdown",
   "metadata": {},
   "source": [
    "Die folgenden Parameter bestimmen die Stärke der relativistischen Kraft, siehe Poster.\n",
    "Hier müssen sehr große Werte gewählt werden, damit in der Simulation etwas zu sehen ist."
   ]
  },
  {
   "cell_type": "code",
   "execution_count": null,
   "metadata": {},
   "outputs": [],
   "source": [
    "a = 0  # Stärke des 1/r**3 tTerms\n",
    "b = 0  # Stärke des 1/r**4 Terms"
   ]
  },
  {
   "cell_type": "code",
   "execution_count": null,
   "metadata": {},
   "outputs": [],
   "source": [
    "# Erzeuge eine neue Grafikausgabe weiter unten\n",
    "canvas()\n",
    "\n",
    "# Zeichne Kugeln and den Startpositionen; M = Merkur, V = Venus, S = Sonne\n",
    "M = sphere(pos=vec_rM0, radius=0.5, color=color.red)\n",
    "V = sphere(pos=vec_rV0, radius=0.7, color=color.orange)\n",
    "S = sphere(pos=vector(0, 0, 0), radius=1.5, color=color.yellow)\n",
    "# Setze Startgeschwindigkeiten\n",
    "M.velocity = vec_vM0\n",
    "V.velocity = vec_vV0\n",
    "S.velocity = vector(0, 0, 0)\n",
    "\n",
    "# Mache die Flugbahn der Planeten sichtbar\n",
    "M.trajectory = curve(color=color.black, radius=0.02)\n",
    "V.trajectory = curve(color=color.black, radius=0.02)\n",
    "\n",
    "# Führe die Simulation für die gegebene Zeit aus und zeichne die Trajektorie\n",
    "time = 0  # Aktuelle Simulationszeit\n",
    "while time < max_time:\n",
    "    # Setzte Bildrate\n",
    "    rate(200)\n",
    "    # Füge die aktuellen Positionen zu den Trajektorien hinzu\n",
    "    M.trajectory.append(pos=M.pos)\n",
    "    V.trajectory.append(pos=V.pos)\n",
    "    # Aktualisiere Positionen und Geschwindigkeiten\n",
    "    M.pos, M.velocity = evolve_planet(M.pos, M.velocity, V.pos, c_aV, a, b)\n",
    "    V.pos, V.velocity = evolve_planet(V.pos, V.velocity, M.pos, c_aM, 0, 0)\n",
    "    \n",
    "    # Setze Simulationszeit weiter\n",
    "    time = time + dt"
   ]
  },
  {
   "cell_type": "code",
   "execution_count": null,
   "metadata": {},
   "outputs": [],
   "source": []
  }
 ],
 "metadata": {
  "kernelspec": {
   "display_name": "highlights-der-physik-2019",
   "language": "python",
   "name": "highlights-der-physik-2019-ewhvivst"
  },
  "language_info": {
   "codemirror_mode": {
    "name": "ipython",
    "version": 3
   },
   "file_extension": ".py",
   "mimetype": "text/x-python",
   "name": "python",
   "nbconvert_exporter": "python",
   "pygments_lexer": "ipython3",
   "version": "3.7.4"
  }
 },
 "nbformat": 4,
 "nbformat_minor": 2
}
