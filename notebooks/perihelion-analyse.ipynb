{
 "cells": [
  {
   "cell_type": "markdown",
   "metadata": {},
   "source": [
    "<b><span style=\"color:#E04728;font-size:26pt\">Die Periheldrehung des Merkurs</span><span style=\"font-size:26pt\"> \t&mdash; Analyse</span></b>"
   ]
  },
  {
   "cell_type": "markdown",
   "metadata": {},
   "source": [
    "Dieses Notebook simuliert die Bewegung des Merkurs, optional unter Berücksichtigung der Relativitätstheorie und verfolgt zusätzlich die Position des Perihels."
   ]
  },
  {
   "cell_type": "markdown",
   "metadata": {
    "ExecuteTime": {
     "end_time": "2018-01-12T14:54:06.755848Z",
     "start_time": "2018-01-12T14:54:06.752957Z"
    },
    "slideshow": {
     "slide_type": "-"
    }
   },
   "source": [
    "# Einrichtung der Simulation"
   ]
  },
  {
   "cell_type": "markdown",
   "metadata": {},
   "source": [
    "Lade alle nötigen Funktionen und richte Grafikausgabe ein."
   ]
  },
  {
   "cell_type": "code",
   "execution_count": null,
   "metadata": {
    "ExecuteTime": {
     "end_time": "2018-01-16T10:13:58.676217Z",
     "start_time": "2018-01-16T10:13:57.129656Z"
    },
    "scrolled": true
   },
   "outputs": [],
   "source": [
    "from graphics import *\n",
    "from analysis import *"
   ]
  },
  {
   "cell_type": "markdown",
   "metadata": {
    "ExecuteTime": {
     "end_time": "2018-01-12T14:55:04.374817Z",
     "start_time": "2018-01-12T14:55:04.370205Z"
    }
   },
   "source": [
    "Definiere physikalische Parameter. Die folgenden Parameter wurden berechnet mittels https://nssdc.gsfc.nasa.gov/planetary/factsheet"
   ]
  },
  {
   "cell_type": "code",
   "execution_count": null,
   "metadata": {
    "ExecuteTime": {
     "end_time": "2018-01-16T10:13:58.683773Z",
     "start_time": "2018-01-16T10:13:58.679276Z"
    }
   },
   "outputs": [],
   "source": [
    "rM0 = 4.60     # Startradius des Merkurorbits\n",
    "vM0 = 5.10e-1  # Startgeschwindigkeit des Merkurs\n",
    "c_a = 9.90e-1  # Basisbeschleunigung des Merkurs\n",
    "rS  = 2.95e-7  # Schwarzschildradius der Sonne\n",
    "rL2 = 8.19e-7  # Spezifischer Drehimpuls"
   ]
  },
  {
   "cell_type": "markdown",
   "metadata": {},
   "source": [
    "Für die physikalischen Berechnungen und grafische Ausgabe brauchen wir Vektoren. Die Startposition und -geschwindigkeit des Merkurs können wie folgt definiert werden."
   ]
  },
  {
   "cell_type": "code",
   "execution_count": null,
   "metadata": {
    "ExecuteTime": {
     "end_time": "2018-01-16T10:13:58.691129Z",
     "start_time": "2018-01-16T10:13:58.687015Z"
    }
   },
   "outputs": [],
   "source": [
    "vec_rM0 = vector(0, rM0, 0) # Startposition des Merkurs\n",
    "vec_vM0 = vector(vM0, 0, 0) # Startgeschwindigkeit des Merkurs"
   ]
  },
  {
   "cell_type": "markdown",
   "metadata": {},
   "source": [
    "Definiere Simulationsparameter. Diese werden nur von der numerischen Simulation gebraucht und haben keine physikalische Bedeutung."
   ]
  },
  {
   "cell_type": "code",
   "execution_count": null,
   "metadata": {
    "ExecuteTime": {
     "end_time": "2018-01-16T10:13:58.720211Z",
     "start_time": "2018-01-16T10:13:58.710773Z"
    }
   },
   "outputs": [],
   "source": [
    "dt = 2. * vM0 / c_a / 20  # Zeitschritt\n",
    "max_turns  = 10           # Maximale Anzahl an Umrundungen der Sonne"
   ]
  },
  {
   "cell_type": "markdown",
   "metadata": {},
   "source": [
    "Die folgenden Parameter bestimmen die Stärke der relativistischen Kraft, siehe Poster.\n",
    "Hier müssen sehr große Werte gewählt werden, damit in der Simulation etwas zu sehen ist."
   ]
  },
  {
   "cell_type": "code",
   "execution_count": null,
   "metadata": {},
   "outputs": [],
   "source": [
    "a = 10**6  # Stärke des 1/r**3 tTerms\n",
    "b = 0      # Stärke des 1/r**4 Terms"
   ]
  },
  {
   "cell_type": "markdown",
   "metadata": {},
   "source": [
    "# Simuliere den Merkurorbit"
   ]
  },
  {
   "cell_type": "markdown",
   "metadata": {},
   "source": [
    "In diesem Abschnitt wird der Orbit des Merkurs simuliert und in einer Animation dargestellt."
   ]
  },
  {
   "cell_type": "code",
   "execution_count": null,
   "metadata": {},
   "outputs": [],
   "source": [
    "def evolve_mercury(vec_rM_old, vec_vM_old, a, b):\n",
    "    \"\"\"\n",
    "    Berechne einen Zeitschritt des Merkurs.\n",
    "    Argumente:\n",
    "         - vec_rM_old: alter Positionsvektor des Merkur\n",
    "         - vec_vM_old: alter Geschwindigkeitsvektor des Merkur\n",
    "         - a: Stärke des 1/r**3 Terms in der Kraft\n",
    "         - b: Stärke des 1/r**4 Terms in der Kraft\n",
    "    Rückgabe:\n",
    "         - vec_rM_new: neuer Positionsvektor des Merkur\n",
    "         - vec_vM_new: neuer Geschwindigkeitsvektor des Merkur\n",
    "    \"\"\"\n",
    "\n",
    "    # Berechne den Faktor aus der Allgemeinen Relativitätstheorie\n",
    "    fact = 1 + a * rS / vec_rM_old.mag + b * rL2 / vec_rM_old.mag**2\n",
    "    \n",
    "    # Berechne die absolute Beschleunigung\n",
    "    aMS = c_a * fact / vec_rM_old.mag**2\n",
    "    # Multipliziere mit der Richtung um den Beschleunigungsvektor zu erhalten\n",
    "    vec_aMS = - aMS * (vec_rM_old / vec_rM_old.mag)\n",
    "    # Aktualisiere Geschwindigkeitsvektor\n",
    "    vec_vM_new = vec_vM_old + vec_aMS * dt\n",
    "    # Aktualisiere Positionsvektor\n",
    "    vec_rM_new = vec_rM_old + vec_vM_new * dt\n",
    "    \n",
    "    return vec_rM_new, vec_vM_new"
   ]
  },
  {
   "cell_type": "markdown",
   "metadata": {},
   "source": [
    "Um die Perihels zu finden und später zu Analysieren werden ein paar zusätzliche Variablen gebraucht."
   ]
  },
  {
   "cell_type": "code",
   "execution_count": null,
   "metadata": {},
   "outputs": [],
   "source": [
    "vec_r_last = vec_rM0  # Vorherige Position des Merkur\n",
    "list_perih = list()   # Liste aller gefundenen Perihels"
   ]
  },
  {
   "cell_type": "markdown",
   "metadata": {},
   "source": [
    "Führe die Simulation aus und finde Perihels."
   ]
  },
  {
   "cell_type": "code",
   "execution_count": null,
   "metadata": {},
   "outputs": [],
   "source": [
    "# Erzeuge eine neue Grafikausgabe weiter unten\n",
    "canvas()\n",
    "\n",
    "# Zeichne Kugeln and den Startpositionen; M = Merkur, S = Sonne\n",
    "M = sphere(pos=vec_rM0, radius=0.5, color=color.red)\n",
    "S = sphere(pos=vector(0, 0, 0), radius=1.5, color=color.yellow)\n",
    "# Setze Startgeschwindigkeiten\n",
    "M.velocity = vec_vM0\n",
    "S.velocity = vector(0, 0, 0)\n",
    "\n",
    "# Mache die Flugbahn des Merkurs sichtbar\n",
    "M.trajectory = curve(color=color.black, radius=0.02)\n",
    "\n",
    "# Führe die Simulation for die gegebene Zeit aus und zeichne die Trajektorie\n",
    "turns = 0  # Anzahl absolvierter Umrundungen der Sonne\n",
    "while turns < max_turns:\n",
    "    # Setzte Bildrate\n",
    "    rate(100)\n",
    "    # Füge die aktuelle Position zur Trajektorie hinzu\n",
    "    M.trajectory.append(pos=M.pos)\n",
    "    # Speicher vorherige und aktuelle Position\n",
    "    vec_r_before_last = vec_r_last\n",
    "    vec_r_last = vector(M.pos)\n",
    "    # Aktualisiere Position und Geschwindigkeit\n",
    "    M.pos, M.velocity = evolve_mercury(M.pos, M.velocity, a, b)\n",
    "   \n",
    "    # Überprüfe ob gerade ein Perihel überschritten wurde\n",
    "    if vec_r_before_last.mag > vec_r_last.mag < M.pos.mag:\n",
    "        # Eine weitere Umrundung ist geschafft\n",
    "        turns = turns + 1\n",
    "        # Speichere Position des Perihelions\n",
    "        list_perih.append(vec_r_last)\n",
    "        \n",
    "        # Zeichne eine Kugel am Perihel\n",
    "        sphere(color=color.green, radius=0.2, pos=vec_r_last)"
   ]
  },
  {
   "cell_type": "markdown",
   "metadata": {},
   "source": [
    "# Analyse"
   ]
  },
  {
   "cell_type": "markdown",
   "metadata": {},
   "source": [
    "Um Graphen anzuzeigen, muss ein extra Paket geladen werden."
   ]
  },
  {
   "cell_type": "code",
   "execution_count": null,
   "metadata": {},
   "outputs": [],
   "source": [
    "import matplotlib.pyplot as plt"
   ]
  },
  {
   "cell_type": "markdown",
   "metadata": {},
   "source": [
    "Berechne die Position des Perihels als Winkel zur Y-Achse damit später die Winkelgeschwindigkeit berechnet werden kann.\n",
    "Erzeuge außerdem einen Graphen der den Winkel des Perihels in jeder Umrundung der Sonne zeigt."
   ]
  },
  {
   "cell_type": "code",
   "execution_count": null,
   "metadata": {},
   "outputs": [],
   "source": [
    "# Berechne den Winkel zwischen allen Perihelions und der Y-Achse in Grad.\n",
    "perih_angles = angles(list_peri)\n",
    "# Zeichne alle Perihels in einen Graph.\n",
    "plt.xlabel(\"Umrundung\", size=16)\n",
    "plt.ylabel(\"Winkel\", size=16)\n",
    "plt.plot(perih_angles, marker=\"d\")"
   ]
  },
  {
   "cell_type": "markdown",
   "metadata": {},
   "source": [
    "Bestimme die Winkelgeschwindigkeit aus den gespeicherten Perihels."
   ]
  },
  {
   "cell_type": "code",
   "execution_count": null,
   "metadata": {},
   "outputs": [],
   "source": [
    "v_perih = (perih_angles[-1] - perih_angles[0]) / len(perih_angles)\n",
    "\n",
    "M_year = 88.0   # Dauer eines Merkurjahres in Erdentagen\n",
    "E_year = 365.2  # Dauer eines Erdjahres in Erdentagen\n",
    "v_perih_years = v_perih / M_year * E_year  # Perihelgeschwindigkeit in Grad pro Erdenjahr (Dreisatz)\n",
    "\n",
    "print(f\"\"\"Der Perihel bewegt sich um {v_perih: .3f}° pro Merkurorbit\n",
    "                      oder {v_perih_years:.3f}° pro Jahr.\"\"\")"
   ]
  }
 ],
 "metadata": {
  "kernelspec": {
   "display_name": "highlights-der-physik-2019",
   "language": "python",
   "name": "highlights-der-physik-2019-ewhvivst"
  },
  "language_info": {
   "codemirror_mode": {
    "name": "ipython",
    "version": 3
   },
   "file_extension": ".py",
   "mimetype": "text/x-python",
   "name": "python",
   "nbconvert_exporter": "python",
   "pygments_lexer": "ipython3",
   "version": "3.7.4"
  }
 },
 "nbformat": 4,
 "nbformat_minor": 2
}
